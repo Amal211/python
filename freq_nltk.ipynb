{
  "nbformat": 4,
  "nbformat_minor": 0,
  "metadata": {
    "colab": {
      "name": "Untitled9.ipynb",
      "provenance": [],
      "authorship_tag": "ABX9TyNrhfDIPPqxKujfYxTKFRTu"
    },
    "kernelspec": {
      "name": "python3",
      "display_name": "Python 3"
    }
  },
  "cells": [
    {
      "cell_type": "code",
      "metadata": {
        "id": "f2J9AKrtHn3R",
        "outputId": "3434d8bc-f1a7-4299-bd38-933cbde44f78",
        "colab": {
          "base_uri": "https://localhost:8080/",
          "height": 229
        }
      },
      "source": [
        "import re\n",
        "frequency = {}\n",
        "#Open the sample text file in read mode.\n",
        "document_text = open(\"‪C:\\\\Users\\\\sweet\\\\Desktop\\\\romeo_and_juliet.txt\", \"r\")\n",
        "#convert the string of the document in lowercase and assign it to text_string variable.\n",
        "text = document_text.read().lower()\n",
        "pattern = re.findall(r'\\b[a-z]{2,15}\\b', text)\n",
        "for word in pattern:\n",
        "     count = frequency.get(word,0)\n",
        "     frequency[word] = count + 1\n",
        "     frequency_list = frequency.keys()\n",
        "     for words in frequency_list:\n",
        "        print(words, frequency[words])"
      ],
      "execution_count": 1,
      "outputs": [
        {
          "output_type": "error",
          "ename": "FileNotFoundError",
          "evalue": "ignored",
          "traceback": [
            "\u001b[0;31m---------------------------------------------------------------------------\u001b[0m",
            "\u001b[0;31mFileNotFoundError\u001b[0m                         Traceback (most recent call last)",
            "\u001b[0;32m<ipython-input-1-3f160e7849ae>\u001b[0m in \u001b[0;36m<module>\u001b[0;34m()\u001b[0m\n\u001b[1;32m      2\u001b[0m \u001b[0mfrequency\u001b[0m \u001b[0;34m=\u001b[0m \u001b[0;34m{\u001b[0m\u001b[0;34m}\u001b[0m\u001b[0;34m\u001b[0m\u001b[0;34m\u001b[0m\u001b[0m\n\u001b[1;32m      3\u001b[0m \u001b[0;31m#Open the sample text file in read mode.\u001b[0m\u001b[0;34m\u001b[0m\u001b[0;34m\u001b[0m\u001b[0;34m\u001b[0m\u001b[0m\n\u001b[0;32m----> 4\u001b[0;31m \u001b[0mdocument_text\u001b[0m \u001b[0;34m=\u001b[0m \u001b[0mopen\u001b[0m\u001b[0;34m(\u001b[0m\u001b[0;34m\"‪C:\\\\Users\\\\sweet\\\\Desktop\\\\romeo_and_juliet.txt\"\u001b[0m\u001b[0;34m,\u001b[0m \u001b[0;34m\"r\"\u001b[0m\u001b[0;34m)\u001b[0m\u001b[0;34m\u001b[0m\u001b[0;34m\u001b[0m\u001b[0m\n\u001b[0m\u001b[1;32m      5\u001b[0m \u001b[0;31m#convert the string of the document in lowercase and assign it to text_string variable.\u001b[0m\u001b[0;34m\u001b[0m\u001b[0;34m\u001b[0m\u001b[0;34m\u001b[0m\u001b[0m\n\u001b[1;32m      6\u001b[0m \u001b[0mtext\u001b[0m \u001b[0;34m=\u001b[0m \u001b[0mdocument_text\u001b[0m\u001b[0;34m.\u001b[0m\u001b[0mread\u001b[0m\u001b[0;34m(\u001b[0m\u001b[0;34m)\u001b[0m\u001b[0;34m.\u001b[0m\u001b[0mlower\u001b[0m\u001b[0;34m(\u001b[0m\u001b[0;34m)\u001b[0m\u001b[0;34m\u001b[0m\u001b[0;34m\u001b[0m\u001b[0m\n",
            "\u001b[0;31mFileNotFoundError\u001b[0m: [Errno 2] No such file or directory: '\\u202aC:\\\\Users\\\\sweet\\\\Desktop\\\\romeo_and_juliet.txt'"
          ]
        }
      ]
    },
    {
      "cell_type": "code",
      "metadata": {
        "id": "CDdAprP2RRoF",
        "outputId": "0fd37bd4-9ba5-47fb-89b0-7d4272b080b9",
        "colab": {
          "base_uri": "https://localhost:8080/",
          "height": 229
        }
      },
      "source": [
        "dic = {}\n",
        "f = open(\"C:\\\\Users\\\\sweet\\\\Desktop\\\\romeo_and_juliet.txt\" ,'r')\n",
        "for line in f:\n",
        "        l1 = line.split(\" \")\n",
        "        for w in l1:\n",
        "            dic[w] = dic.get(w,0)+1\n",
        "print ('\\n'.join(['%s,%s' % (k, v) for k, v in dic.items()]))"
      ],
      "execution_count": null,
      "outputs": [
        {
          "output_type": "error",
          "ename": "FileNotFoundError",
          "evalue": "ignored",
          "traceback": [
            "\u001b[0;31m---------------------------------------------------------------------------\u001b[0m",
            "\u001b[0;31mFileNotFoundError\u001b[0m                         Traceback (most recent call last)",
            "\u001b[0;32m<ipython-input-81-c40ef1c900dd>\u001b[0m in \u001b[0;36m<module>\u001b[0;34m()\u001b[0m\n\u001b[1;32m      1\u001b[0m \u001b[0mdic\u001b[0m \u001b[0;34m=\u001b[0m \u001b[0;34m{\u001b[0m\u001b[0;34m}\u001b[0m\u001b[0;34m\u001b[0m\u001b[0;34m\u001b[0m\u001b[0m\n\u001b[0;32m----> 2\u001b[0;31m \u001b[0mf\u001b[0m \u001b[0;34m=\u001b[0m \u001b[0mopen\u001b[0m\u001b[0;34m(\u001b[0m\u001b[0;34m\"C:\\\\Users\\\\sweet\\\\Desktop\\\\romeo_and_juliet.txt\"\u001b[0m \u001b[0;34m,\u001b[0m\u001b[0;34m'r'\u001b[0m\u001b[0;34m)\u001b[0m\u001b[0;34m\u001b[0m\u001b[0;34m\u001b[0m\u001b[0m\n\u001b[0m\u001b[1;32m      3\u001b[0m \u001b[0;32mfor\u001b[0m \u001b[0mline\u001b[0m \u001b[0;32min\u001b[0m \u001b[0mf\u001b[0m\u001b[0;34m:\u001b[0m\u001b[0;34m\u001b[0m\u001b[0;34m\u001b[0m\u001b[0m\n\u001b[1;32m      4\u001b[0m         \u001b[0ml1\u001b[0m \u001b[0;34m=\u001b[0m \u001b[0mline\u001b[0m\u001b[0;34m.\u001b[0m\u001b[0msplit\u001b[0m\u001b[0;34m(\u001b[0m\u001b[0;34m\" \"\u001b[0m\u001b[0;34m)\u001b[0m\u001b[0;34m\u001b[0m\u001b[0;34m\u001b[0m\u001b[0m\n\u001b[1;32m      5\u001b[0m         \u001b[0;32mfor\u001b[0m \u001b[0mw\u001b[0m \u001b[0;32min\u001b[0m \u001b[0ml1\u001b[0m\u001b[0;34m:\u001b[0m\u001b[0;34m\u001b[0m\u001b[0;34m\u001b[0m\u001b[0m\n",
            "\u001b[0;31mFileNotFoundError\u001b[0m: [Errno 2] No such file or directory: 'C:\\\\Users\\\\sweet\\\\Desktop\\\\romeo_and_juliet.txt'"
          ]
        }
      ]
    },
    {
      "cell_type": "code",
      "metadata": {
        "id": "wF8U7xcBhUaS"
      },
      "source": [
        "import tweepy\n",
        " \n",
        "# User credentials to access Twitter API\n",
        "\n",
        "access_token = \"****************\"\n",
        "access_token_secret = \"********************\"\n",
        "consumer_key = \"***********\"\n",
        "consumer_secret = \"***************\"\n",
        "\n",
        "# Pass credentials to tweepy via its OAuthHandler\n",
        "\n",
        "auth = tweepy.OAuthHandler(consumer_key, consumer_secret)\n",
        "\n",
        "auth.set_access_token(access_token, access_token_secret)\n",
        "\n",
        "# Twitter API methods have maximum calls limit in 15 minutes, wait before facing a rate limit \n",
        "\n",
        "api = tweepy.API(auth, wait_on_rate_limit=True, wait_on_rate_limit_notify=True)\n",
        "\n",
        "# Search for the word 'sales' and get 20 tweets in English language.  \n",
        "\n",
        "tweets = api.search(q='sales', lang='en', count=20)\n",
        "\n",
        "# Print the user name and the tweets without any metadat\n",
        "\n",
        "def print_tweet(tweets): \n",
        "    for t in tweets:        \n",
        "        print(f'{t.user.screen_name}:', end='') \n",
        "        print(f'{t.text}\\n')          \n",
        "\n",
        "print_tweet(tweets)\n"
      ],
      "execution_count": null,
      "outputs": []
    },
    {
      "cell_type": "code",
      "metadata": {
        "id": "pE33f6lPSXCT",
        "outputId": "1727a29f-88a3-43d7-9ce0-4c3a1af6c860",
        "colab": {
          "base_uri": "https://localhost:8080/"
        }
      },
      "source": [
        "import nltk\n",
        "import pandas as pd\n",
        "#from nltk.corpus import stopwords\n",
        "#nltk.download('stopwords')\n",
        "\n",
        "import urllib.request\n",
        "response =  urllib.request.urlopen('https://raw.githubusercontent.com/Amal211/\\\n",
        "python/main/fordeal.txt')\n",
        "html = response.read()\n",
        "print(html)\n",
        "\n",
        "tokens = [t for t in html.split()]\n",
        "print(tokens)\n",
        "\n",
        "#sr= stopwords.words('english')\n",
        "#clean_tokens = tokens[:]\n",
        "#for token in tokens:\n",
        "    #if token in stopwords.words('english'):\n",
        "        \n",
        "        #clean_tokens.remove(token)\n",
        "\n",
        "freq = nltk.FreqDist(clean_tokens)\n",
        "for q in freq:\n",
        "  df = pd.DataFrame.from_dict(freq, orient='index') \\\n",
        ".sort_values(0, ascending=False) \\\n",
        ".rename({0:'Frequencies'}, axis=1)\n",
        "\n",
        "df1 = df.head(50)\n",
        "print(df1)\n",
        "\n",
        "  #df = pd.DataFrame(df1)\n",
        "  #print(df)\n",
        "   \n",
        "   #print(str(key) + ':' + str(val))\n",
        "#freq.plot(20, cumulative=False)\n"
      ],
      "execution_count": 48,
      "outputs": [
        {
          "output_type": "stream",
          "text": [
            "b\"Poor quality\\r\\nPoor quality, not same as photo... no place to review the product on their page .... such a rip off \\xf0\\x9f\\x98\\x92\\xf0\\x9f\\x98\\x92\\r\\n\\r\\nCristian\\r\\n5 reviews\\r\\n1 star: Bad\\r\\nNov 6, 2020\\r\\nVery bad company\\r\\nEmelyn Natividad\\r\\n1 review\\r\\n4 stars: Great\\r\\nOct 30, 2020\\r\\ngood service\\r\\nWorth buying,good quality ,good service..thankyou so much fordeal..we will order again..\\r\\n\\r\\nwan wan Bihfon\\r\\nwan wan Bihfon\\r\\n1 review\\r\\n1 star: Bad\\r\\nOct 28, 2020\\r\\nRacist advert on a lotion\\r\\nHave been buying from the app but recently saw an advert on a lotion which is totally racist. How can you use a black woman angry of her dark skin then happy after using the lotion and becoming light skin? Did we black skin tell you we don't love our skin or you are as ignorant as hell?\\r\\n\\r\\nRuairi O'Carra\\r\\nRuairi O'Carra\\r\\n1 review\\r\\n1 star: Bad\\r\\nOct 22, 2020\\r\\nTerrible customer care\\r\\nI have been the victim to a scammer who use my card on three different websites, I contacted all three stores as soon as I found out and two of the three companies were fantastic and got me my money back. Fordeal have had over a month now to deal with the issue and I cannot get anyone to contact me. Just the same message over and Over. They are so frustrating it is unbelievable. Although I have no history of buying from this shop, please be aware if anything goes wrong with your order you have virtually no chance to speak to anyone in customer care. It is horrendous.\\r\\n\\r\\nManar Abdel Salam\\r\\n1 review\\r\\n1 star: Bad\\r\\nOct 13, 2020\\r\\nI ordered 4 electronic watches ..but\\xe2\\x80\\xa6\\r\\nI ordered 4 electronic watches ..but all not working.and very bad qality\\r\\n\\r\\nMahmoud Lababneh\\r\\nMahmoud Lababneh\\r\\n1 review\\r\\n1 star: Bad\\r\\nOct 7, 2020\\r\\nI ordered a Tablet but the quality I\\xe2\\x80\\xa6\\r\\nI ordered a Tablet but the quality I got is very bad. I will never deal with them\\r\\n\\r\\nAbdul Rauf\\r\\n1 review\\r\\n1 star: Bad\\r\\nSep 29, 2020\\r\\nAfter seeing video and photo I ordered\\xe2\\x80\\xa6\\r\\nAfter seeing video and photo I ordered 12 peace resistance band set yoga exercise fitness band and today received simple one band\\r\\n(fordeal)Your order (order No: 19944649 is shipped by zajil. Tracking No. Z1813631\\r\\n\\r\\nRaghda A.M\\r\\n1 review\\r\\n5 stars: Excellent\\r\\nSep 26, 2020\\r\\nThere customer service is really good\\xe2\\x80\\xa6\\r\\nThere customer service is really good and very fast . They are so polite they help you right away during your return or any questions about the product\\r\\nI REALLY RECOMMEND FORDEAL\\r\\nIts the best company i contacted until now .\\r\\nThe products come as described too with high quality\\r\\nAnd they deliver on time too legite\\r\\n\\r\\nJanet Sabaldica\\r\\n1 review\\r\\n4 stars: Great\\r\\nSep 25, 2020\\r\\nGood quality items plus cheap price\\r\\nGood quality items plus cheap price. Will order again.\\r\\n\\r\\nAami Yooseph Sageer\\r\\n1 review\\r\\n1 star: Bad\\r\\nSep 24, 2020\\r\\nI ordered in February and have not\\xe2\\x80\\xa6\\r\\nI ordered in February and have not received yet. I feel I lost my money. It is already 7 months now. So really sad!!\\r\\n\\r\\nShabeer Ali\\r\\nShabeer Ali\\r\\n1 review\\r\\n1 star: Bad\\r\\nSep 21, 2020\\r\\nOrder placed 45 days before - Till no delivery\\r\\nOrder placed 45 days before, delivery not yet ??\\r\\nvery bad experience\\r\\n\\r\\nMona Shokripour\\r\\n1 review\\r\\n1 star: Bad\\r\\nSep 19, 2020\\r\\nIt is awful\\r\\nIt is awful. I ordered two dresses and both are in a very bad quality and so short. In their pictures, they are maxi, but they are a little under knee. And for the stationeries that I ordered, very bad quality and one was broken.\\r\\n\\r\\nZulfikar\\r\\n1 review\\r\\n1 star: Bad\\r\\nSep 15, 2020\\r\\nNike shoe\\r\\nhello I have order with them Nike air shoe\\r\\nand this peoples are cheater they had deliver local china brand once I tried to contact them they are not responding even i have called so many time but no answer busy just ignoring\\r\\nplease don't order from these people they are cheater.\\r\\n\\r\\nNourhan\\r\\n2 reviews\\r\\n1 star: Bad\\r\\nSep 7, 2020\\r\\nScam i bought many items and came\\xe2\\x80\\xa6\\r\\nScam i bought many items and came nothing like the picture bad fabrics wrong sizes dirty clothes no response till spreading the real pictures of what I got til then the answer and before that block me from their sites on Facebook and Instagram\\r\\n\\r\\nhazel joy\\r\\n1 review\\r\\n1 star: Bad\\r\\nAug 19, 2020\\r\\nThere were naked babys\\r\\nCharles Moore\\r\\n1 review\\r\\n1 star: Bad\\r\\nAug 19, 2020\\r\\nInvited\\r\\nSuper poor clothing material\\r\\nSuper poor clothing material, don\\xe2\\x80\\x99t buy\\r\\n\\r\\nIonela Costea\\r\\n1 review\\r\\n1 star: Bad\\r\\nAug 4, 2020\\r\\nVery bad quality\\r\\nVery bad quality. And very expensive for what they offer. The pants look pretty in the picture and awful in real. The stiches are horrible and not straight. The blend of poliester and cotton is actually 100% poliester. The quality of underwear very bad, the blouse stiches as well awful. Jumpsuit quality awful. Shein and Jollyshic way much better quality and full description on products before you buy.\\r\\n\\r\\nHaifa Muneer\\r\\n1 review\\r\\n5 stars: Excellent\\r\\nUpdated Aug 2, 2020\\r\\nit is a excellent product\\r\\nit is a excellent product. It reached in the time they said . Experience was very good\\r\\n\\r\\nColby H.\\r\\n1 review\\r\\n1 star: Bad\\r\\nJul 31, 2020\\r\\nCustomer service sends messages\\xe2\\x80\\xa6\\r\\nCustomer service sends messages repeatedly like a robot\"\n",
            "[b'Poor', b'quality', b'Poor', b'quality,', b'not', b'same', b'as', b'photo...', b'no', b'place', b'to', b'review', b'the', b'product', b'on', b'their', b'page', b'....', b'such', b'a', b'rip', b'off', b'\\xf0\\x9f\\x98\\x92\\xf0\\x9f\\x98\\x92', b'Cristian', b'5', b'reviews', b'1', b'star:', b'Bad', b'Nov', b'6,', b'2020', b'Very', b'bad', b'company', b'Emelyn', b'Natividad', b'1', b'review', b'4', b'stars:', b'Great', b'Oct', b'30,', b'2020', b'good', b'service', b'Worth', b'buying,good', b'quality', b',good', b'service..thankyou', b'so', b'much', b'fordeal..we', b'will', b'order', b'again..', b'wan', b'wan', b'Bihfon', b'wan', b'wan', b'Bihfon', b'1', b'review', b'1', b'star:', b'Bad', b'Oct', b'28,', b'2020', b'Racist', b'advert', b'on', b'a', b'lotion', b'Have', b'been', b'buying', b'from', b'the', b'app', b'but', b'recently', b'saw', b'an', b'advert', b'on', b'a', b'lotion', b'which', b'is', b'totally', b'racist.', b'How', b'can', b'you', b'use', b'a', b'black', b'woman', b'angry', b'of', b'her', b'dark', b'skin', b'then', b'happy', b'after', b'using', b'the', b'lotion', b'and', b'becoming', b'light', b'skin?', b'Did', b'we', b'black', b'skin', b'tell', b'you', b'we', b\"don't\", b'love', b'our', b'skin', b'or', b'you', b'are', b'as', b'ignorant', b'as', b'hell?', b'Ruairi', b\"O'Carra\", b'Ruairi', b\"O'Carra\", b'1', b'review', b'1', b'star:', b'Bad', b'Oct', b'22,', b'2020', b'Terrible', b'customer', b'care', b'I', b'have', b'been', b'the', b'victim', b'to', b'a', b'scammer', b'who', b'use', b'my', b'card', b'on', b'three', b'different', b'websites,', b'I', b'contacted', b'all', b'three', b'stores', b'as', b'soon', b'as', b'I', b'found', b'out', b'and', b'two', b'of', b'the', b'three', b'companies', b'were', b'fantastic', b'and', b'got', b'me', b'my', b'money', b'back.', b'Fordeal', b'have', b'had', b'over', b'a', b'month', b'now', b'to', b'deal', b'with', b'the', b'issue', b'and', b'I', b'cannot', b'get', b'anyone', b'to', b'contact', b'me.', b'Just', b'the', b'same', b'message', b'over', b'and', b'Over.', b'They', b'are', b'so', b'frustrating', b'it', b'is', b'unbelievable.', b'Although', b'I', b'have', b'no', b'history', b'of', b'buying', b'from', b'this', b'shop,', b'please', b'be', b'aware', b'if', b'anything', b'goes', b'wrong', b'with', b'your', b'order', b'you', b'have', b'virtually', b'no', b'chance', b'to', b'speak', b'to', b'anyone', b'in', b'customer', b'care.', b'It', b'is', b'horrendous.', b'Manar', b'Abdel', b'Salam', b'1', b'review', b'1', b'star:', b'Bad', b'Oct', b'13,', b'2020', b'I', b'ordered', b'4', b'electronic', b'watches', b'..but\\xe2\\x80\\xa6', b'I', b'ordered', b'4', b'electronic', b'watches', b'..but', b'all', b'not', b'working.and', b'very', b'bad', b'qality', b'Mahmoud', b'Lababneh', b'Mahmoud', b'Lababneh', b'1', b'review', b'1', b'star:', b'Bad', b'Oct', b'7,', b'2020', b'I', b'ordered', b'a', b'Tablet', b'but', b'the', b'quality', b'I\\xe2\\x80\\xa6', b'I', b'ordered', b'a', b'Tablet', b'but', b'the', b'quality', b'I', b'got', b'is', b'very', b'bad.', b'I', b'will', b'never', b'deal', b'with', b'them', b'Abdul', b'Rauf', b'1', b'review', b'1', b'star:', b'Bad', b'Sep', b'29,', b'2020', b'After', b'seeing', b'video', b'and', b'photo', b'I', b'ordered\\xe2\\x80\\xa6', b'After', b'seeing', b'video', b'and', b'photo', b'I', b'ordered', b'12', b'peace', b'resistance', b'band', b'set', b'yoga', b'exercise', b'fitness', b'band', b'and', b'today', b'received', b'simple', b'one', b'band', b'(fordeal)Your', b'order', b'(order', b'No:', b'19944649', b'is', b'shipped', b'by', b'zajil.', b'Tracking', b'No.', b'Z1813631', b'Raghda', b'A.M', b'1', b'review', b'5', b'stars:', b'Excellent', b'Sep', b'26,', b'2020', b'There', b'customer', b'service', b'is', b'really', b'good\\xe2\\x80\\xa6', b'There', b'customer', b'service', b'is', b'really', b'good', b'and', b'very', b'fast', b'.', b'They', b'are', b'so', b'polite', b'they', b'help', b'you', b'right', b'away', b'during', b'your', b'return', b'or', b'any', b'questions', b'about', b'the', b'product', b'I', b'REALLY', b'RECOMMEND', b'FORDEAL', b'Its', b'the', b'best', b'company', b'i', b'contacted', b'until', b'now', b'.', b'The', b'products', b'come', b'as', b'described', b'too', b'with', b'high', b'quality', b'And', b'they', b'deliver', b'on', b'time', b'too', b'legite', b'Janet', b'Sabaldica', b'1', b'review', b'4', b'stars:', b'Great', b'Sep', b'25,', b'2020', b'Good', b'quality', b'items', b'plus', b'cheap', b'price', b'Good', b'quality', b'items', b'plus', b'cheap', b'price.', b'Will', b'order', b'again.', b'Aami', b'Yooseph', b'Sageer', b'1', b'review', b'1', b'star:', b'Bad', b'Sep', b'24,', b'2020', b'I', b'ordered', b'in', b'February', b'and', b'have', b'not\\xe2\\x80\\xa6', b'I', b'ordered', b'in', b'February', b'and', b'have', b'not', b'received', b'yet.', b'I', b'feel', b'I', b'lost', b'my', b'money.', b'It', b'is', b'already', b'7', b'months', b'now.', b'So', b'really', b'sad!!', b'Shabeer', b'Ali', b'Shabeer', b'Ali', b'1', b'review', b'1', b'star:', b'Bad', b'Sep', b'21,', b'2020', b'Order', b'placed', b'45', b'days', b'before', b'-', b'Till', b'no', b'delivery', b'Order', b'placed', b'45', b'days', b'before,', b'delivery', b'not', b'yet', b'??', b'very', b'bad', b'experience', b'Mona', b'Shokripour', b'1', b'review', b'1', b'star:', b'Bad', b'Sep', b'19,', b'2020', b'It', b'is', b'awful', b'It', b'is', b'awful.', b'I', b'ordered', b'two', b'dresses', b'and', b'both', b'are', b'in', b'a', b'very', b'bad', b'quality', b'and', b'so', b'short.', b'In', b'their', b'pictures,', b'they', b'are', b'maxi,', b'but', b'they', b'are', b'a', b'little', b'under', b'knee.', b'And', b'for', b'the', b'stationeries', b'that', b'I', b'ordered,', b'very', b'bad', b'quality', b'and', b'one', b'was', b'broken.', b'Zulfikar', b'1', b'review', b'1', b'star:', b'Bad', b'Sep', b'15,', b'2020', b'Nike', b'shoe', b'hello', b'I', b'have', b'order', b'with', b'them', b'Nike', b'air', b'shoe', b'and', b'this', b'peoples', b'are', b'cheater', b'they', b'had', b'deliver', b'local', b'china', b'brand', b'once', b'I', b'tried', b'to', b'contact', b'them', b'they', b'are', b'not', b'responding', b'even', b'i', b'have', b'called', b'so', b'many', b'time', b'but', b'no', b'answer', b'busy', b'just', b'ignoring', b'please', b\"don't\", b'order', b'from', b'these', b'people', b'they', b'are', b'cheater.', b'Nourhan', b'2', b'reviews', b'1', b'star:', b'Bad', b'Sep', b'7,', b'2020', b'Scam', b'i', b'bought', b'many', b'items', b'and', b'came\\xe2\\x80\\xa6', b'Scam', b'i', b'bought', b'many', b'items', b'and', b'came', b'nothing', b'like', b'the', b'picture', b'bad', b'fabrics', b'wrong', b'sizes', b'dirty', b'clothes', b'no', b'response', b'till', b'spreading', b'the', b'real', b'pictures', b'of', b'what', b'I', b'got', b'til', b'then', b'the', b'answer', b'and', b'before', b'that', b'block', b'me', b'from', b'their', b'sites', b'on', b'Facebook', b'and', b'Instagram', b'hazel', b'joy', b'1', b'review', b'1', b'star:', b'Bad', b'Aug', b'19,', b'2020', b'There', b'were', b'naked', b'babys', b'Charles', b'Moore', b'1', b'review', b'1', b'star:', b'Bad', b'Aug', b'19,', b'2020', b'Invited', b'Super', b'poor', b'clothing', b'material', b'Super', b'poor', b'clothing', b'material,', b'don\\xe2\\x80\\x99t', b'buy', b'Ionela', b'Costea', b'1', b'review', b'1', b'star:', b'Bad', b'Aug', b'4,', b'2020', b'Very', b'bad', b'quality', b'Very', b'bad', b'quality.', b'And', b'very', b'expensive', b'for', b'what', b'they', b'offer.', b'The', b'pants', b'look', b'pretty', b'in', b'the', b'picture', b'and', b'awful', b'in', b'real.', b'The', b'stiches', b'are', b'horrible', b'and', b'not', b'straight.', b'The', b'blend', b'of', b'poliester', b'and', b'cotton', b'is', b'actually', b'100%', b'poliester.', b'The', b'quality', b'of', b'underwear', b'very', b'bad,', b'the', b'blouse', b'stiches', b'as', b'well', b'awful.', b'Jumpsuit', b'quality', b'awful.', b'Shein', b'and', b'Jollyshic', b'way', b'much', b'better', b'quality', b'and', b'full', b'description', b'on', b'products', b'before', b'you', b'buy.', b'Haifa', b'Muneer', b'1', b'review', b'5', b'stars:', b'Excellent', b'Updated', b'Aug', b'2,', b'2020', b'it', b'is', b'a', b'excellent', b'product', b'it', b'is', b'a', b'excellent', b'product.', b'It', b'reached', b'in', b'the', b'time', b'they', b'said', b'.', b'Experience', b'was', b'very', b'good', b'Colby', b'H.', b'1', b'review', b'1', b'star:', b'Bad', b'Jul', b'31,', b'2020', b'Customer', b'service', b'sends', b'messages\\xe2\\x80\\xa6', b'Customer', b'service', b'sends', b'messages', b'repeatedly', b'like', b'a', b'robot']\n",
            "             Frequencies\n",
            "b'1'                  32\n",
            "b'and'                24\n",
            "b'I'                  23\n",
            "b'2020'               19\n",
            "b'review'             18\n",
            "b'the'                18\n",
            "b'Bad'                15\n",
            "b'star:'              15\n",
            "b'is'                 13\n",
            "b'quality'            13\n",
            "b'a'                  13\n",
            "b'are'                10\n",
            "b'they'                9\n",
            "b'very'                9\n",
            "b'bad'                 8\n",
            "b'have'                8\n",
            "b'ordered'             8\n",
            "b'Sep'                 8\n",
            "b'on'                  7\n",
            "b'in'                  7\n",
            "b'to'                  7\n",
            "b'as'                  7\n",
            "b'you'                 6\n",
            "b'order'               6\n",
            "b'no'                  6\n",
            "b'of'                  6\n",
            "b'not'                 6\n",
            "b'but'                 5\n",
            "b'so'                  5\n",
            "b'with'                5\n",
            "b'It'                  5\n",
            "b'Oct'                 5\n",
            "b'service'             5\n",
            "b'The'                 5\n",
            "b'i'                   4\n",
            "b'items'               4\n",
            "b'from'                4\n",
            "b'wan'                 4\n",
            "b'Aug'                 4\n",
            "b'customer'            4\n",
            "b'4'                   4\n",
            "b'stars:'              4\n",
            "b'Very'                3\n",
            "b'And'                 3\n",
            "b'skin'                3\n",
            "b'many'                3\n",
            "b'three'               3\n",
            "b'product'             3\n",
            "b'their'               3\n",
            "b'them'                3\n"
          ],
          "name": "stdout"
        }
      ]
    }
  ]
}